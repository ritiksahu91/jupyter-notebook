{
 "cells": [
  {
   "cell_type": "markdown",
   "id": "a2f7de63-83e2-481a-bdd4-8ab410fd8397",
   "metadata": {},
   "source": [
    "# My Jupyter Notebook on IBM Watson Studio\n"
   ]
  },
  {
   "cell_type": "markdown",
   "id": "891b3ce2-9173-4887-a466-ca586e86025f",
   "metadata": {},
   "source": [
    "**Ritik sahu**\n",
    "student\n"
   ]
  },
  {
   "cell_type": "markdown",
   "id": "196678c0-1632-4f22-91fa-83da23b49cd9",
   "metadata": {},
   "source": [
    "*I am interested in data science because it has great rate of success*\n"
   ]
  },
  {
   "cell_type": "markdown",
   "id": "27517036-673a-49c6-8c4e-a7178cf09799",
   "metadata": {},
   "source": [
    "<h3>code for multiplication of two number<h3>"
   ]
  },
  {
   "cell_type": "code",
   "execution_count": 3,
   "id": "ba35b64d-f37d-4769-ac08-4b359b46a2df",
   "metadata": {},
   "outputs": [
    {
     "name": "stdout",
     "output_type": "stream",
     "text": [
      "12\n"
     ]
    }
   ],
   "source": [
    "three = 3\n",
    "four = 4\n",
    "print(three*four)"
   ]
  },
  {
   "cell_type": "markdown",
   "id": "6877965e-72ae-4ae2-a839-b9a321510a90",
   "metadata": {},
   "source": [
    "Introduction to jupyter notebook\n",
    "> jupyter notebook is good for doin any kind of coding task\n",
    "<a  href=\"https://www.ibm.com/cloud/watson-studio\"><br>visit ibm watson studio</a>\n",
    "### language we should be known for jupyter notebook are:-\n",
    "<ol>\n",
    "    <li>julia</li>\n",
    "    <li>python</li>\n",
    "    <li>R</li>\n",
    "        </ol>\n",
    "**the logo of jupyter notebook is:-\n",
    "  <img src=\"https://numfocus.org/wp-content/uploads/2016/07/jupyter-logo-300.png\">\n",
    "  "
   ]
  },
  {
   "cell_type": "code",
   "execution_count": null,
   "id": "e7762d10-7c88-46e0-82d5-84dda1e1d5bc",
   "metadata": {},
   "outputs": [],
   "source": []
  }
 ],
 "metadata": {
  "kernelspec": {
   "display_name": "Python",
   "language": "python",
   "name": "conda-env-python-py"
  },
  "language_info": {
   "codemirror_mode": {
    "name": "ipython",
    "version": 3
   },
   "file_extension": ".py",
   "mimetype": "text/x-python",
   "name": "python",
   "nbconvert_exporter": "python",
   "pygments_lexer": "ipython3",
   "version": "3.7.12"
  }
 },
 "nbformat": 4,
 "nbformat_minor": 5
}
